{
 "cells": [
  {
   "cell_type": "markdown",
   "metadata": {},
   "source": [
    "# Lidar 3D Ground Classification \n",
    "\n",
    "We provide an aerial LIDAR scan (input.las). The goal is to classify ground points. The aim is not 100% accuracy or Deep Learning based approaches, a “quick and dirty” solution suffices.\n",
    "\n",
    "Recommended tools:\n",
    "* Point cloud processing\n",
    "* Laspy\n",
    "* Pdal\n",
    "* Scikit\n",
    "\n",
    "Visualization:\n",
    "* Potree\n",
    "* Pptk\n",
    "* Open3d\n",
    "* CloudCompare\n"
   ]
  },
  {
   "cell_type": "markdown",
   "metadata": {},
   "source": [
    "# Dirty Solution: z-axis filtering"
   ]
  },
  {
   "cell_type": "code",
   "execution_count": null,
   "metadata": {},
   "outputs": [],
   "source": [
    "import laspy\n",
    "import numpy as np\n",
    "import open3d as o3d\n",
    "import matplotlib.pyplot as plt"
   ]
  },
  {
   "cell_type": "code",
   "execution_count": null,
   "metadata": {},
   "outputs": [],
   "source": [
    "# Load the LIDAR data\n",
    "input_file = \"./input.las\"\n",
    "las = laspy.read(input_file)\n",
    "points = las.points"
   ]
  },
  {
   "cell_type": "code",
   "execution_count": null,
   "metadata": {},
   "outputs": [
    {
     "name": "stdout",
     "output_type": "stream",
     "text": [
      "Z values range from 45.28 to 88.09\n"
     ]
    },
    {
     "data": {
      "image/png": "[encoded data removed]",
      "text/plain": [
       "<Figure size 1800x500 with 1 Axes>"
      ]
     },
     "metadata": {},
     "output_type": "display_data"
    }
   ],
   "source": [
    "# Extract X, Y, Z values\n",
    "x = las.x\n",
    "y = las.y\n",
    "z = las.z\n",
    "\n",
    "# Print the range of X, Y, Z values\n",
    "print(f\"Z values range from {np.min(z)} to {np.max(z)}\")\n",
    "\n",
    "# Create histograms for X, Y, Z values to inspect distributions\n",
    "plt.figure(figsize=(18, 5))\n",
    "\n",
    "plt.hist(z, bins=100, color='blue', edgecolor='black')\n",
    "plt.title('Histogram of Z-axis Values')\n",
    "plt.xlabel('Z')\n",
    "plt.ylabel('Number of Points')\n",
    "\n",
    "plt.show()\n"
   ]
  },
  {
   "cell_type": "code",
   "execution_count": null,
   "metadata": {},
   "outputs": [
    {
     "name": "stdout",
     "output_type": "stream",
     "text": [
      "Z values range from 45.28 to 88.09\n",
      "Total points: 10103120\n",
      "Ground points: 3720186\n",
      "Visualizing all points\n",
      "\u001b[1;33m[Open3D WARNING] GLFW Error: Cocoa: Failed to find service port for display\u001b[0;m\n",
      "\u001b[1;33m[Open3D WARNING] GLFW Error: Cocoa: Failed to find service port for display\u001b[0;m\n",
      "Visualizing ground points\n",
      "\u001b[1;33m[Open3D WARNING] GLFW Error: Cocoa: Failed to find service port for display\u001b[0;m\n",
      "\u001b[1;33m[Open3D WARNING] GLFW Error: Cocoa: Failed to find service port for display\u001b[0;m\n"
     ]
    }
   ],
   "source": [
    "# Identify the ground Z-value range from the histogram\n",
    "ground_z_min = np.min(z)\n",
    "ground_z_max = 51.3  # Adjust this value based on histogram observation\n",
    "\n",
    "# Filter points within the ground Z-value range\n",
    "ground_points_mask = (z >= ground_z_min) & (z <= ground_z_max)\n",
    "ground_points = np.vstack((x[ground_points_mask], y[ground_points_mask], z[ground_points_mask])).transpose()\n",
    "\n",
    "# Verify the number of points before and after filtering\n",
    "print(f\"Total points: {len(x)}\")\n",
    "print(f\"Ground points: {len(ground_points)}\")\n",
    "\n",
    "# Create and visualize the ground points using Open3D\n",
    "pcd_ground = o3d.geometry.PointCloud()\n",
    "pcd_ground.points = o3d.utility.Vector3dVector(ground_points)\n",
    "\n",
    "# Create and visualize all points using Open3D\n",
    "all_points = np.vstack((x, y, z)).transpose()\n",
    "pcd_all = o3d.geometry.PointCloud()\n",
    "pcd_all.points = o3d.utility.Vector3dVector(all_points)\n",
    "\n",
    "# Visualize all points\n",
    "print(\"Visualizing all points\")\n",
    "o3d.visualization.draw_geometries([pcd_all])\n",
    "\n",
    "# Visualize ground points\n",
    "print(\"Visualizing ground points\")\n",
    "o3d.visualization.draw_geometries([pcd_ground])"
   ]
  },
  {
   "cell_type": "markdown",
   "metadata": {},
   "source": [
    "# Good solution: PDAL\n",
    "\n",
    "More details in README.txt"
   ]
  },
  {
   "cell_type": "code",
   "execution_count": 7,
   "metadata": {},
   "outputs": [
    {
     "name": "stdout",
     "output_type": "stream",
     "text": [
      "\u001b[1;33m[Open3D WARNING] GLFW Error: Cocoa: Failed to find service port for display\u001b[0;m\n",
      "\u001b[1;33m[Open3D WARNING] GLFW Error: Cocoa: Failed to find service port for display\u001b[0;m\n"
     ]
    },
    {
     "ename": "",
     "evalue": "",
     "output_type": "error",
     "traceback": [
      "\u001b[1;31mThe Kernel crashed while executing code in the current cell or a previous cell. \n",
      "\u001b[1;31mPlease review the code in the cell(s) to identify a possible cause of the failure. \n",
      "\u001b[1;31mClick <a href='https://aka.ms/vscodeJupyterKernelCrash'>here</a> for more info. \n",
      "\u001b[1;31mView Jupyter <a href='command:jupyter.viewOutput'>log</a> for further details."
     ]
    }
   ],
   "source": [
    "import open3d as o3d\n",
    "import laspy\n",
    "import numpy as np\n",
    "import matplotlib.pyplot as plt\n",
    "\n",
    "# Read the ground points LIDAR data\n",
    "las = laspy.read(\"ground_points.las\")\n",
    "points = np.vstack((las.x, las.y, las.z)).transpose()\n",
    "\n",
    "# Normalize the z-values for coloring\n",
    "z_min = points[:, 2].min()\n",
    "z_max = points[:, 2].max()\n",
    "z_norm = (points[:, 2] - z_min) / (z_max - z_min)\n",
    "\n",
    "# Create a color map\n",
    "cmap = plt.get_cmap(\"viridis\")\n",
    "colors = cmap(z_norm)[:, :3]  # Use only RGB values, discard alpha\n",
    "\n",
    "# Function to visualize points using open3d\n",
    "def visualize_points(points, colors):\n",
    "    pcd = o3d.geometry.PointCloud()\n",
    "    pcd.points = o3d.utility.Vector3dVector(points)\n",
    "    pcd.colors = o3d.utility.Vector3dVector(colors)\n",
    "    return pcd\n",
    "\n",
    "# Visualize ground points with color mapping based on height\n",
    "ground_pcd = visualize_points(points, colors)\n",
    "\n",
    "o3d.visualization.draw_geometries([ground_pcd])\n",
    "\n"
   ]
  }
 ],
 "metadata": {
  "kernelspec": {
   "display_name": "Python 3",
   "language": "python",
   "name": "python3"
  },
  "language_info": {
   "codemirror_mode": {
    "name": "ipython",
    "version": 3
   },
   "file_extension": ".py",
   "mimetype": "text/x-python",
   "name": "python",
   "nbconvert_exporter": "python",
   "pygments_lexer": "ipython3",
   "version": "3.11.1"
  }
 },
 "nbformat": 4,
 "nbformat_minor": 2
}
